{
 "cells": [
  {
   "cell_type": "code",
   "execution_count": 16,
   "metadata": {},
   "outputs": [
    {
     "name": "stdout",
     "output_type": "stream",
     "text": [
      "The watermark extension is already loaded. To reload it, use:\n",
      "  %reload_ext watermark\n"
     ]
    }
   ],
   "source": [
    "%matplotlib inline\n",
    "import pandas as pd\n",
    "import seaborn as sns\n",
    "import matplotlib.pyplot as plt\n",
    "sns.set(style='white')\n",
    "import numpy as np\n",
    "%load_ext watermark"
   ]
  },
  {
   "cell_type": "code",
   "execution_count": 4,
   "metadata": {},
   "outputs": [
    {
     "name": "stdout",
     "output_type": "stream",
     "text": [
      "CPython 3.6.2\n",
      "IPython 6.1.0\n",
      "\n",
      "pandas 0.20.3\n",
      "seaborn 0.8.0\n",
      "matplotlib 2.0.2\n"
     ]
    }
   ],
   "source": [
    "%watermark -v -p pandas,seaborn,matplotlib"
   ]
  },
  {
   "cell_type": "code",
   "execution_count": 10,
   "metadata": {},
   "outputs": [],
   "source": [
    "flights = sns.load_dataset('flights')\n",
    "\n",
    "years = [1949, 1955, 1960]\n",
    "flights = flights.loc[flights.year.isin(years)]"
   ]
  },
  {
   "cell_type": "code",
   "execution_count": 14,
   "metadata": {},
   "outputs": [
    {
     "data": {
      "text/html": [
       "<div>\n",
       "<style>\n",
       "    .dataframe thead tr:only-child th {\n",
       "        text-align: right;\n",
       "    }\n",
       "\n",
       "    .dataframe thead th {\n",
       "        text-align: left;\n",
       "    }\n",
       "\n",
       "    .dataframe tbody tr th {\n",
       "        vertical-align: top;\n",
       "    }\n",
       "</style>\n",
       "<table border=\"1\" class=\"dataframe\">\n",
       "  <thead>\n",
       "    <tr style=\"text-align: right;\">\n",
       "      <th></th>\n",
       "      <th>year</th>\n",
       "      <th>month</th>\n",
       "      <th>passengers</th>\n",
       "    </tr>\n",
       "  </thead>\n",
       "  <tbody>\n",
       "    <tr>\n",
       "      <th>0</th>\n",
       "      <td>1949</td>\n",
       "      <td>January</td>\n",
       "      <td>112</td>\n",
       "    </tr>\n",
       "    <tr>\n",
       "      <th>1</th>\n",
       "      <td>1949</td>\n",
       "      <td>February</td>\n",
       "      <td>118</td>\n",
       "    </tr>\n",
       "    <tr>\n",
       "      <th>2</th>\n",
       "      <td>1949</td>\n",
       "      <td>March</td>\n",
       "      <td>132</td>\n",
       "    </tr>\n",
       "    <tr>\n",
       "      <th>3</th>\n",
       "      <td>1949</td>\n",
       "      <td>April</td>\n",
       "      <td>129</td>\n",
       "    </tr>\n",
       "    <tr>\n",
       "      <th>4</th>\n",
       "      <td>1949</td>\n",
       "      <td>May</td>\n",
       "      <td>121</td>\n",
       "    </tr>\n",
       "  </tbody>\n",
       "</table>\n",
       "</div>"
      ],
      "text/plain": [
       "   year     month  passengers\n",
       "0  1949   January         112\n",
       "1  1949  February         118\n",
       "2  1949     March         132\n",
       "3  1949     April         129\n",
       "4  1949       May         121"
      ]
     },
     "execution_count": 14,
     "metadata": {},
     "output_type": "execute_result"
    }
   ],
   "source": [
    "flights.head()"
   ]
  },
  {
   "cell_type": "code",
   "execution_count": 34,
   "metadata": {},
   "outputs": [
    {
     "data": {
      "text/plain": [
       "year             int64\n",
       "month         category\n",
       "passengers       int64\n",
       "dtype: object"
      ]
     },
     "execution_count": 34,
     "metadata": {},
     "output_type": "execute_result"
    }
   ],
   "source": [
    "flights.dtypes"
   ]
  },
  {
   "cell_type": "code",
   "execution_count": 21,
   "metadata": {},
   "outputs": [
    {
     "data": {
      "text/plain": [
       "<matplotlib.collections.PathCollection at 0x10ae18898>"
      ]
     },
     "execution_count": 21,
     "metadata": {},
     "output_type": "execute_result"
    },
    {
     "data": {
      "image/png": "[encoded data removed]",
      "text/plain": [
       "<matplotlib.figure.Figure at 0x10fe75908>"
      ]
     },
     "metadata": {},
     "output_type": "display_data"
    }
   ],
   "source": [
    "plt.scatter(x='passengers', y='year', data=flights)"
   ]
  },
  {
   "cell_type": "code",
   "execution_count": 98,
   "metadata": {},
   "outputs": [],
   "source": [
    "def dumbell_plot(data, x, y, marker, marker_order=[], legend_loc=[], offset_divider=35,\n",
    "                 fig_kwargs={}, marker_kwargs={}, legend=True, palette=None):\n",
    "#                  text_h_align='right', palette='deep'):\n",
    "    '''\n",
    "    This is an example to create a dumbbell chart in Python.\n",
    "    If you would like to provide your data and customize the graph, modify the variables in the section below.\n",
    "    Please be aware that you need matplotlib installed in order for this to work.\n",
    "    '''\n",
    "    if not marker_order:\n",
    "        marker_order = list(data[marker].unique())\n",
    "    y_labels = list(data[y].unique())\n",
    "    \n",
    "    dummy_y = range(1, len(y_labels) + 1)\n",
    "    \n",
    "    if palette:\n",
    "        colors = sns.color_palette(palette)\n",
    "    else:\n",
    "        colors = sns.color_palette()\n",
    "\n",
    "    # Styles to be used when plotting the different elements of the graph.\n",
    "#     dumbbell_style_a = dict(color=A_COLOR, linewidths=2,# mec=A_COLOR,\n",
    "#                             marker='o', s=50)# markersize=9)\n",
    "#     dumbbell_style_b = dict(color=B_COLOR, linewidths=2,# mec=B_COLOR,\n",
    "#                             marker='o', s=50) #markersize=9)\n",
    "#     axis_label_style = dict(horizontalalignment=text_h_align,\n",
    "#                             verticalalignment='center', fontsize=10)\n",
    "    \n",
    "#     data = data.loc[:, years]\n",
    "    min_data = data.min(axis=1)\n",
    "    max_data = data.max(axis=1)\n",
    "\n",
    "    # Create the figure\n",
    "    fig, ax = plt.subplots(**fig_kwargs)\n",
    "\n",
    "    index = range(len(y_labels))\n",
    "    \n",
    "    # Auto-set the state abbr text offset\n",
    "    # The divider of 40 is based on the g/kWh figure max of 1185 and\n",
    "    # offset of 30\n",
    "    label_offset = data[x].max() / offset_divider\n",
    "    \n",
    "    \n",
    "    for i, mark in enumerate(marker_order):\n",
    "        x_vals = data.loc[data[marker] == mark, x]\n",
    "        color = colors[i]\n",
    "        plt.scatter(x_vals, dummy_y, zorder=2, c=color, **marker_kwargs)\n",
    "        \n",
    "        \n",
    "    left_end = data.loc[data[marker] == marker_order[0], x].values\n",
    "    right_end = data.loc[data[marker] == marker_order[-1], x].values\n",
    "#     return left_end, right_end\n",
    "    for label, y_val in zip(y_labels, dummy_y):\n",
    "        plt.hlines(y_val, left_end[y_val-1], right_end[y_val-1], zorder=1)\n",
    "    \n",
    "    plt.xlabel(x)\n",
    "    plt.ylabel(y)\n",
    "    plt.yticks(dummy_y, y_labels)\n",
    "    \n",
    "    \n",
    "    \n",
    "    \n",
    "#     # Loop N times\n",
    "#     for i, (data, year) in enumerate(zip(data.T.values, years)):\n",
    "#         color = colors[i]\n",
    "#         for value, label, j in zip(data, axis_labels, index):\n",
    "#             facecolor = None\n",
    "#             if label in rps_start and rps_start[label] <= year:\n",
    "#                 facecolor = 'w'\n",
    "            \n",
    "#             ax.scatter(value, j, facecolors=facecolor, zorder=3, color=color,\n",
    "#                       linewidth=2, s=50)\n",
    "            \n",
    "#             plt.hlines(y=j, xmin=min_data[j], xmax=max_data[j], zorder=2)\n",
    "            \n",
    "#             if i == 0:\n",
    "#                 ax.text(min_data[j] - label_offset, j, label,\n",
    "#                         **axis_label_style)\n",
    "\n",
    "#     plt.yticks(index, ['' for x in axis_labels])\n",
    "\n",
    "    if legend:\n",
    "        legend_height = max(dummy_y) + 2\n",
    "        \n",
    "        for i, mark in enumerate(marker_order):\n",
    "            ax.scatter(x=legend_loc[i], y=legend_height, color=colors[i], zorder=3,\n",
    "                       **marker_kwargs)\n",
    "            plt.text(x=legend_loc[i], y=legend_height+1, s=str(mark), ha='center')\n",
    "        plt.hlines(y=legend_height, xmin=legend_loc[0], zorder=2, xmax=legend_loc[-1])"
   ]
  },
  {
   "cell_type": "code",
   "execution_count": 100,
   "metadata": {},
   "outputs": [
    {
     "data": {
      "text/plain": [
       "(0, 700)"
      ]
     },
     "execution_count": 100,
     "metadata": {},
     "output_type": "execute_result"
    },
    {
     "data": {
      "image/png": "[encoded data removed]",
      "text/plain": [
       "<matplotlib.figure.Figure at 0x1103dd048>"
      ]
     },
     "metadata": {},
     "output_type": "display_data"
    }
   ],
   "source": [
    "m_kwargs = {'s': 100}\n",
    "fig_kwargs = {'figsize': (4, 6)}\n",
    "dumbell_plot(flights, 'passengers', 'month', 'year', legend=True,\n",
    "             legend_loc=[450, 550, 650], marker_kwargs=m_kwargs,\n",
    "             fig_kwargs=fig_kwargs, palette='tab10')\n",
    "sns.despine()\n",
    "plt.xlim(0, 700)"
   ]
  },
  {
   "cell_type": "code",
   "execution_count": null,
   "metadata": {
    "collapsed": true
   },
   "outputs": [],
   "source": []
  }
 ],
 "metadata": {
  "kernelspec": {
   "display_name": "Python 3",
   "language": "python",
   "name": "python3"
  },
  "language_info": {
   "codemirror_mode": {
    "name": "ipython",
    "version": 3
   },
   "file_extension": ".py",
   "mimetype": "text/x-python",
   "name": "python",
   "nbconvert_exporter": "python",
   "pygments_lexer": "ipython3",
   "version": "3.6.2"
  }
 },
 "nbformat": 4,
 "nbformat_minor": 2
}
